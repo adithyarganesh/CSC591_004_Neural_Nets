{
  "nbformat": 4,
  "nbformat_minor": 0,
  "metadata": {
    "kernelspec": {
      "display_name": "Python 3",
      "language": "python",
      "name": "python3"
    },
    "language_info": {
      "codemirror_mode": {
        "name": "ipython",
        "version": 3
      },
      "file_extension": ".py",
      "mimetype": "text/x-python",
      "name": "python",
      "nbconvert_exporter": "python",
      "pygments_lexer": "ipython3",
      "version": "3.8.3"
    },
    "colab": {
      "name": "Untitled.ipynb",
      "provenance": [],
      "include_colab_link": true
    },
    "accelerator": "GPU"
  },
  "cells": [
    {
      "cell_type": "markdown",
      "metadata": {
        "id": "view-in-github",
        "colab_type": "text"
      },
      "source": [
        "<a href=\"https://colab.research.google.com/github/adithyarganesh/CSC591_004_Neural_Nets/blob/main/Neural_Nets.ipynb\" target=\"_parent\"><img src=\"https://colab.research.google.com/assets/colab-badge.svg\" alt=\"Open In Colab\"/></a>"
      ]
    },
    {
      "cell_type": "code",
      "metadata": {
        "id": "DCy3jWBV8fUs"
      },
      "source": [
        "import pandas as pd\n",
        "import matplotlib.pyplot as plt\n",
        "import statsmodels.api as sm\n",
        "from sklearn.preprocessing import PolynomialFeatures\n",
        "from sklearn.model_selection import GridSearchCV, cross_val_score, KFold\n",
        "from sklearn.linear_model import LinearRegression\n",
        "from sklearn.metrics import mean_squared_error, r2_score \n",
        "from keras.wrappers.scikit_learn import KerasRegressor\n",
        "from keras.layers import Dense\n",
        "from keras.models import Sequential"
      ],
      "execution_count": 5,
      "outputs": []
    },
    {
      "cell_type": "code",
      "metadata": {
        "id": "5LbJruqR8fU7"
      },
      "source": [
        "data = pd.read_csv(\"20.csv\", header = None)"
      ],
      "execution_count": 6,
      "outputs": []
    },
    {
      "cell_type": "code",
      "metadata": {
        "id": "lA01UdTI8fVH",
        "outputId": "9762dc53-14ed-4916-d674-f8844ce031d9",
        "colab": {
          "base_uri": "https://localhost:8080/",
          "height": 206
        }
      },
      "source": [
        "data.head()"
      ],
      "execution_count": 7,
      "outputs": [
        {
          "output_type": "execute_result",
          "data": {
            "text/html": [
              "<div>\n",
              "<style scoped>\n",
              "    .dataframe tbody tr th:only-of-type {\n",
              "        vertical-align: middle;\n",
              "    }\n",
              "\n",
              "    .dataframe tbody tr th {\n",
              "        vertical-align: top;\n",
              "    }\n",
              "\n",
              "    .dataframe thead th {\n",
              "        text-align: right;\n",
              "    }\n",
              "</style>\n",
              "<table border=\"1\" class=\"dataframe\">\n",
              "  <thead>\n",
              "    <tr style=\"text-align: right;\">\n",
              "      <th></th>\n",
              "      <th>0</th>\n",
              "      <th>1</th>\n",
              "      <th>2</th>\n",
              "      <th>3</th>\n",
              "      <th>4</th>\n",
              "      <th>5</th>\n",
              "    </tr>\n",
              "  </thead>\n",
              "  <tbody>\n",
              "    <tr>\n",
              "      <th>0</th>\n",
              "      <td>94.039</td>\n",
              "      <td>142.51</td>\n",
              "      <td>221.27</td>\n",
              "      <td>339.26</td>\n",
              "      <td>340.85</td>\n",
              "      <td>9503.0</td>\n",
              "    </tr>\n",
              "    <tr>\n",
              "      <th>1</th>\n",
              "      <td>107.660</td>\n",
              "      <td>170.76</td>\n",
              "      <td>199.92</td>\n",
              "      <td>310.61</td>\n",
              "      <td>332.60</td>\n",
              "      <td>10107.0</td>\n",
              "    </tr>\n",
              "    <tr>\n",
              "      <th>2</th>\n",
              "      <td>61.967</td>\n",
              "      <td>143.51</td>\n",
              "      <td>231.63</td>\n",
              "      <td>305.04</td>\n",
              "      <td>328.60</td>\n",
              "      <td>7506.3</td>\n",
              "    </tr>\n",
              "    <tr>\n",
              "      <th>3</th>\n",
              "      <td>86.851</td>\n",
              "      <td>107.66</td>\n",
              "      <td>216.18</td>\n",
              "      <td>333.62</td>\n",
              "      <td>320.53</td>\n",
              "      <td>8724.5</td>\n",
              "    </tr>\n",
              "    <tr>\n",
              "      <th>4</th>\n",
              "      <td>78.773</td>\n",
              "      <td>148.64</td>\n",
              "      <td>251.70</td>\n",
              "      <td>322.27</td>\n",
              "      <td>346.57</td>\n",
              "      <td>8713.1</td>\n",
              "    </tr>\n",
              "  </tbody>\n",
              "</table>\n",
              "</div>"
            ],
            "text/plain": [
              "         0       1       2       3       4        5\n",
              "0   94.039  142.51  221.27  339.26  340.85   9503.0\n",
              "1  107.660  170.76  199.92  310.61  332.60  10107.0\n",
              "2   61.967  143.51  231.63  305.04  328.60   7506.3\n",
              "3   86.851  107.66  216.18  333.62  320.53   8724.5\n",
              "4   78.773  148.64  251.70  322.27  346.57   8713.1"
            ]
          },
          "metadata": {
            "tags": []
          },
          "execution_count": 7
        }
      ]
    },
    {
      "cell_type": "code",
      "metadata": {
        "id": "rMTakk-zIlty"
      },
      "source": [
        "data = data[data[1] > -20]\n",
        "data = data[data[2] > 10]\n",
        "data = data[data[3] > 60]\n",
        "data = data[data[3] < 120]\n",
        "data = data[data[5] > 100]\n",
        "data = data[data[5] < 150]\n",
        "y = np.array(data[6]).reshape(-1,1)\n",
        "for_corr = data\n",
        "data = data.drop([6], axis=1)"
      ],
      "execution_count": null,
      "outputs": []
    },
    {
      "cell_type": "code",
      "metadata": {
        "id": "a-b7YZDs8fVQ",
        "outputId": "32eca2d6-f873-4e2f-e8c9-535a88cee0b0",
        "colab": {
          "base_uri": "https://localhost:8080/",
          "height": 238
        }
      },
      "source": [
        "data.corr()"
      ],
      "execution_count": 8,
      "outputs": [
        {
          "output_type": "execute_result",
          "data": {
            "text/html": [
              "<div>\n",
              "<style scoped>\n",
              "    .dataframe tbody tr th:only-of-type {\n",
              "        vertical-align: middle;\n",
              "    }\n",
              "\n",
              "    .dataframe tbody tr th {\n",
              "        vertical-align: top;\n",
              "    }\n",
              "\n",
              "    .dataframe thead th {\n",
              "        text-align: right;\n",
              "    }\n",
              "</style>\n",
              "<table border=\"1\" class=\"dataframe\">\n",
              "  <thead>\n",
              "    <tr style=\"text-align: right;\">\n",
              "      <th></th>\n",
              "      <th>0</th>\n",
              "      <th>1</th>\n",
              "      <th>2</th>\n",
              "      <th>3</th>\n",
              "      <th>4</th>\n",
              "      <th>5</th>\n",
              "    </tr>\n",
              "  </thead>\n",
              "  <tbody>\n",
              "    <tr>\n",
              "      <th>0</th>\n",
              "      <td>1.000000</td>\n",
              "      <td>0.014514</td>\n",
              "      <td>-0.006043</td>\n",
              "      <td>-0.017395</td>\n",
              "      <td>0.016438</td>\n",
              "      <td>0.951735</td>\n",
              "    </tr>\n",
              "    <tr>\n",
              "      <th>1</th>\n",
              "      <td>0.014514</td>\n",
              "      <td>1.000000</td>\n",
              "      <td>0.032741</td>\n",
              "      <td>-0.001900</td>\n",
              "      <td>-0.037500</td>\n",
              "      <td>0.046233</td>\n",
              "    </tr>\n",
              "    <tr>\n",
              "      <th>2</th>\n",
              "      <td>-0.006043</td>\n",
              "      <td>0.032741</td>\n",
              "      <td>1.000000</td>\n",
              "      <td>0.017146</td>\n",
              "      <td>0.031595</td>\n",
              "      <td>0.098727</td>\n",
              "    </tr>\n",
              "    <tr>\n",
              "      <th>3</th>\n",
              "      <td>-0.017395</td>\n",
              "      <td>-0.001900</td>\n",
              "      <td>0.017146</td>\n",
              "      <td>1.000000</td>\n",
              "      <td>-0.009506</td>\n",
              "      <td>0.111425</td>\n",
              "    </tr>\n",
              "    <tr>\n",
              "      <th>4</th>\n",
              "      <td>0.016438</td>\n",
              "      <td>-0.037500</td>\n",
              "      <td>0.031595</td>\n",
              "      <td>-0.009506</td>\n",
              "      <td>1.000000</td>\n",
              "      <td>0.179275</td>\n",
              "    </tr>\n",
              "    <tr>\n",
              "      <th>5</th>\n",
              "      <td>0.951735</td>\n",
              "      <td>0.046233</td>\n",
              "      <td>0.098727</td>\n",
              "      <td>0.111425</td>\n",
              "      <td>0.179275</td>\n",
              "      <td>1.000000</td>\n",
              "    </tr>\n",
              "  </tbody>\n",
              "</table>\n",
              "</div>"
            ],
            "text/plain": [
              "          0         1         2         3         4         5\n",
              "0  1.000000  0.014514 -0.006043 -0.017395  0.016438  0.951735\n",
              "1  0.014514  1.000000  0.032741 -0.001900 -0.037500  0.046233\n",
              "2 -0.006043  0.032741  1.000000  0.017146  0.031595  0.098727\n",
              "3 -0.017395 -0.001900  0.017146  1.000000 -0.009506  0.111425\n",
              "4  0.016438 -0.037500  0.031595 -0.009506  1.000000  0.179275\n",
              "5  0.951735  0.046233  0.098727  0.111425  0.179275  1.000000"
            ]
          },
          "metadata": {
            "tags": []
          },
          "execution_count": 8
        }
      ]
    },
    {
      "cell_type": "markdown",
      "metadata": {
        "id": "AfMZ8fpZ8fVV"
      },
      "source": [
        "https://machinelearningmastery.com/tutorial-first-neural-network-python-keras/\n",
        "\n",
        "https://machinelearningmastery.com/regression-tutorial-keras-deep-learning-library-python/"
      ]
    },
    {
      "cell_type": "code",
      "metadata": {
        "id": "YVqV18R_8ykz"
      },
      "source": [
        "dataset = data.values\n",
        "X = dataset[:,0:5]\n",
        "Y = dataset[:,5]\n",
        "X_test = X[-300:]\n",
        "X = X[:-300]\n",
        "Y_test = Y[-300:]\n",
        "Y = Y[:-300]"
      ],
      "execution_count": 9,
      "outputs": []
    },
    {
      "cell_type": "code",
      "metadata": {
        "id": "8FRmJtbh8fVk",
        "outputId": "b91f8d19-0ad4-41de-dec9-f7c43fd532a7",
        "colab": {
          "base_uri": "https://localhost:8080/"
        }
      },
      "source": [
        "# define base model\n",
        "def baseline_model():\n",
        "    # create model\n",
        "    model = Sequential()\n",
        "    model.add(Dense(5, input_dim=5, kernel_initializer='normal', activation='relu'))\n",
        "    model.add(Dense(1, kernel_initializer='normal'))\n",
        "    # Compile model\n",
        "    model.compile(loss='mean_squared_error', optimizer='adam')\n",
        "    return model\n",
        "\n",
        "estimator = KerasRegressor(build_fn=baseline_model, epochs=100, batch_size=5, verbose=0)\n",
        "kfold = KFold(n_splits=10)\n",
        "results = cross_val_score(estimator, X, Y, cv=kfold)\n",
        "print(\"Baseline: %.2f (%.2f) MSE\" % (results.mean(), results.std()))"
      ],
      "execution_count": 10,
      "outputs": [
        {
          "output_type": "stream",
          "text": [
            "Baseline: -98254.66 (31761.97) MSE\n"
          ],
          "name": "stdout"
        }
      ]
    },
    {
      "cell_type": "code",
      "metadata": {
        "id": "F5TyCEi28fVy"
      },
      "source": [
        "def custom_model(optimizer='adam'):\n",
        "    # create model\n",
        "    model = Sequential()\n",
        "    model.add(Dense(128, input_dim=X.shape[1], activation='relu'))\n",
        "    model.add(Dense(64, activation='relu'))\n",
        "    model.add(Dense(1))\n",
        "    model.compile(loss='mean_squared_error', optimizer=optimizer,metrics=['mse'])\n",
        "    return model\n",
        "\n",
        "model = KerasRegressor(build_fn=custom_model, verbose=0)\n",
        "\n",
        "optimizer = ['adam', 'RMSprop', 'Adagrad']\n",
        "batch_size = [10, 20, 40, 60, 80, 100]\n",
        "epochs = [10, 50, 100]\n",
        "\n",
        "param_grid = dict(batch_size=batch_size, optimizer=optimizer, epochs=epochs)\n",
        "\n",
        "grid = GridSearchCV(estimator=model, param_grid=param_grid, n_jobs=1)\n",
        "grid_result = grid.fit(X, Y)\n"
      ],
      "execution_count": 12,
      "outputs": []
    },
    {
      "cell_type": "code",
      "metadata": {
        "id": "HGM7HBUy8fV2",
        "outputId": "37103b97-90ae-49a1-e525-8eede77f15ea",
        "colab": {
          "base_uri": "https://localhost:8080/"
        }
      },
      "source": [
        "print(\"Best: %f using %s\" % (grid_result.best_score_, grid_result.best_params_))\n",
        "means = grid_result.cv_results_['mean_test_score']\n",
        "stds = grid_result.cv_results_['std_test_score']\n",
        "params = grid_result.cv_results_['params']\n",
        "for mean, stdev, param in zip(means, stds, params):\n",
        "    print(\"%f (%f) with: %r\" % (mean, stdev, param))"
      ],
      "execution_count": 13,
      "outputs": [
        {
          "output_type": "stream",
          "text": [
            "Best: -25979.201172 using {'batch_size': 20, 'epochs': 100, 'optimizer': 'adam'}\n",
            "-83848.133594 (31485.334665) with: {'batch_size': 10, 'epochs': 10, 'optimizer': 'adam'}\n",
            "-124149.147656 (106041.321994) with: {'batch_size': 10, 'epochs': 10, 'optimizer': 'RMSprop'}\n",
            "-17538629.000000 (6145950.034129) with: {'batch_size': 10, 'epochs': 10, 'optimizer': 'Adagrad'}\n",
            "-28976.654297 (6686.122457) with: {'batch_size': 10, 'epochs': 50, 'optimizer': 'adam'}\n",
            "-28985.950000 (4135.118675) with: {'batch_size': 10, 'epochs': 50, 'optimizer': 'RMSprop'}\n",
            "-1475655.350000 (144409.180757) with: {'batch_size': 10, 'epochs': 50, 'optimizer': 'Adagrad'}\n",
            "-31307.830078 (7195.229146) with: {'batch_size': 10, 'epochs': 100, 'optimizer': 'adam'}\n",
            "-35668.427344 (12147.983446) with: {'batch_size': 10, 'epochs': 100, 'optimizer': 'RMSprop'}\n",
            "-1435397.200000 (173003.982770) with: {'batch_size': 10, 'epochs': 100, 'optimizer': 'Adagrad'}\n",
            "-607021.156250 (225326.076199) with: {'batch_size': 20, 'epochs': 10, 'optimizer': 'adam'}\n",
            "-155434.096875 (67205.428782) with: {'batch_size': 20, 'epochs': 10, 'optimizer': 'RMSprop'}\n",
            "-39172515.600000 (7229904.980792) with: {'batch_size': 20, 'epochs': 10, 'optimizer': 'Adagrad'}\n",
            "-32730.587109 (9326.100937) with: {'batch_size': 20, 'epochs': 50, 'optimizer': 'adam'}\n",
            "-46073.637109 (17537.055165) with: {'batch_size': 20, 'epochs': 50, 'optimizer': 'RMSprop'}\n",
            "-1622539.675000 (233324.938891) with: {'batch_size': 20, 'epochs': 50, 'optimizer': 'Adagrad'}\n",
            "-25979.201172 (3285.793231) with: {'batch_size': 20, 'epochs': 100, 'optimizer': 'adam'}\n",
            "-44877.579688 (7302.797490) with: {'batch_size': 20, 'epochs': 100, 'optimizer': 'RMSprop'}\n",
            "-1489904.750000 (215725.142852) with: {'batch_size': 20, 'epochs': 100, 'optimizer': 'Adagrad'}\n",
            "-1350494.175000 (162489.428364) with: {'batch_size': 40, 'epochs': 10, 'optimizer': 'adam'}\n",
            "-742374.950000 (163049.310736) with: {'batch_size': 40, 'epochs': 10, 'optimizer': 'RMSprop'}\n",
            "-56523900.000000 (2665037.687018) with: {'batch_size': 40, 'epochs': 10, 'optimizer': 'Adagrad'}\n",
            "-56658.258203 (24003.537579) with: {'batch_size': 40, 'epochs': 50, 'optimizer': 'adam'}\n",
            "-64086.296094 (12042.358310) with: {'batch_size': 40, 'epochs': 50, 'optimizer': 'RMSprop'}\n",
            "-9372795.800000 (5108249.641949) with: {'batch_size': 40, 'epochs': 50, 'optimizer': 'Adagrad'}\n",
            "-30622.471875 (6322.287248) with: {'batch_size': 40, 'epochs': 100, 'optimizer': 'adam'}\n",
            "-36232.569531 (13259.656484) with: {'batch_size': 40, 'epochs': 100, 'optimizer': 'RMSprop'}\n",
            "-1600181.925000 (146014.239422) with: {'batch_size': 40, 'epochs': 100, 'optimizer': 'Adagrad'}\n",
            "-1390699.350000 (145640.273592) with: {'batch_size': 60, 'epochs': 10, 'optimizer': 'adam'}\n",
            "-1082542.925000 (144731.452078) with: {'batch_size': 60, 'epochs': 10, 'optimizer': 'RMSprop'}\n",
            "-62656396.800000 (559420.032519) with: {'batch_size': 60, 'epochs': 10, 'optimizer': 'Adagrad'}\n",
            "-69710.080469 (40863.769851) with: {'batch_size': 60, 'epochs': 50, 'optimizer': 'adam'}\n",
            "-71970.824219 (24058.956433) with: {'batch_size': 60, 'epochs': 50, 'optimizer': 'RMSprop'}\n",
            "-16491987.400000 (3500092.027003) with: {'batch_size': 60, 'epochs': 50, 'optimizer': 'Adagrad'}\n",
            "-46966.215625 (15952.838801) with: {'batch_size': 60, 'epochs': 100, 'optimizer': 'adam'}\n",
            "-45104.332812 (10972.408712) with: {'batch_size': 60, 'epochs': 100, 'optimizer': 'RMSprop'}\n",
            "-2788073.200000 (698682.820182) with: {'batch_size': 60, 'epochs': 100, 'optimizer': 'Adagrad'}\n",
            "-1493044.875000 (155697.516601) with: {'batch_size': 80, 'epochs': 10, 'optimizer': 'adam'}\n",
            "-1351079.800000 (130707.791587) with: {'batch_size': 80, 'epochs': 10, 'optimizer': 'RMSprop'}\n",
            "-65509906.400000 (3248526.947553) with: {'batch_size': 80, 'epochs': 10, 'optimizer': 'Adagrad'}\n",
            "-263853.200000 (123436.623595) with: {'batch_size': 80, 'epochs': 50, 'optimizer': 'adam'}\n",
            "-92486.471875 (25669.353331) with: {'batch_size': 80, 'epochs': 50, 'optimizer': 'RMSprop'}\n",
            "-25053901.200000 (2766136.455614) with: {'batch_size': 80, 'epochs': 50, 'optimizer': 'Adagrad'}\n",
            "-41316.805469 (6963.559710) with: {'batch_size': 80, 'epochs': 100, 'optimizer': 'adam'}\n",
            "-47747.921094 (15393.723483) with: {'batch_size': 80, 'epochs': 100, 'optimizer': 'RMSprop'}\n",
            "-6449660.600000 (3418975.118244) with: {'batch_size': 80, 'epochs': 100, 'optimizer': 'Adagrad'}\n",
            "-1476760.825000 (167679.598081) with: {'batch_size': 100, 'epochs': 10, 'optimizer': 'adam'}\n",
            "-1404041.825000 (201396.916914) with: {'batch_size': 100, 'epochs': 10, 'optimizer': 'RMSprop'}\n",
            "-72146363.200000 (2264547.064452) with: {'batch_size': 100, 'epochs': 10, 'optimizer': 'Adagrad'}\n",
            "-352332.837500 (104710.011595) with: {'batch_size': 100, 'epochs': 50, 'optimizer': 'adam'}\n",
            "-90365.727344 (25890.780854) with: {'batch_size': 100, 'epochs': 50, 'optimizer': 'RMSprop'}\n",
            "-32726843.600000 (8646951.726295) with: {'batch_size': 100, 'epochs': 50, 'optimizer': 'Adagrad'}\n",
            "-42565.274219 (14731.363104) with: {'batch_size': 100, 'epochs': 100, 'optimizer': 'adam'}\n",
            "-65972.997656 (29357.657998) with: {'batch_size': 100, 'epochs': 100, 'optimizer': 'RMSprop'}\n",
            "-11417867.800000 (2452926.970178) with: {'batch_size': 100, 'epochs': 100, 'optimizer': 'Adagrad'}\n"
          ],
          "name": "stdout"
        }
      ]
    },
    {
      "cell_type": "code",
      "metadata": {
        "id": "u0U28LjJJcHH"
      },
      "source": [
        "# X = np.column_stack((data[1], data[3], data[4], data[5]))\n",
        "X2 = sm.add_constant(X)\n",
        "est = sm.OLS(Y, X2)\n",
        "est2 = est.fit()\n",
        "sigma_squared = 0\n",
        "for z in est2.resid:\n",
        "    sigma_squared += z**2"
      ],
      "execution_count": 15,
      "outputs": []
    },
    {
      "cell_type": "code",
      "metadata": {
        "id": "zQboTZDTJiqL",
        "outputId": "c6ebd357-09b2-48e6-ea0c-e80562fdb882",
        "colab": {
          "base_uri": "https://localhost:8080/"
        }
      },
      "source": [
        "print(est2.summary())"
      ],
      "execution_count": 16,
      "outputs": [
        {
          "output_type": "stream",
          "text": [
            "                            OLS Regression Results                            \n",
            "==============================================================================\n",
            "Dep. Variable:                      y   R-squared:                       0.960\n",
            "Model:                            OLS   Adj. R-squared:                  0.960\n",
            "Method:                 Least Squares   F-statistic:                     9585.\n",
            "Date:                Wed, 04 Nov 2020   Prob (F-statistic):               0.00\n",
            "Time:                        21:25:43   Log-Likelihood:                -14158.\n",
            "No. Observations:                2000   AIC:                         2.833e+04\n",
            "Df Residuals:                    1994   BIC:                         2.836e+04\n",
            "Df Model:                           5                                         \n",
            "Covariance Type:            nonrobust                                         \n",
            "==============================================================================\n",
            "                 coef    std err          t      P>|t|      [0.025      0.975]\n",
            "------------------------------------------------------------------------------\n",
            "const      -2567.9162    142.217    -18.056      0.000   -2846.826   -2289.007\n",
            "x1            55.0369      0.259    212.402      0.000      54.529      55.545\n",
            "x2             2.2014      0.267      8.252      0.000       1.678       2.725\n",
            "x3             5.6969      0.266     21.387      0.000       5.175       6.219\n",
            "x4             6.9531      0.251     27.745      0.000       6.462       7.445\n",
            "x5             9.1432      0.263     34.767      0.000       8.627       9.659\n",
            "==============================================================================\n",
            "Omnibus:                     1395.967   Durbin-Watson:                   1.974\n",
            "Prob(Omnibus):                  0.000   Jarque-Bera (JB):            29299.309\n",
            "Skew:                           3.018   Prob(JB):                         0.00\n",
            "Kurtosis:                      20.753   Cond. No.                     1.22e+04\n",
            "==============================================================================\n",
            "\n",
            "Warnings:\n",
            "[1] Standard Errors assume that the covariance matrix of the errors is correctly specified.\n",
            "[2] The condition number is large, 1.22e+04. This might indicate that there are\n",
            "strong multicollinearity or other numerical problems.\n"
          ],
          "name": "stdout"
        }
      ]
    },
    {
      "cell_type": "code",
      "metadata": {
        "id": "38cSgPdQ8fWK",
        "outputId": "ed61f849-1437-4682-c164-44490597ec5e",
        "colab": {
          "base_uri": "https://localhost:8080/"
        }
      },
      "source": [
        "reg2 = LinearRegression()\n",
        "reg2.fit(X, Y)\n",
        "\n",
        "print(\"The linear model is: Y = {:.5} + {:.5}*X1 + {:.5}*X2 + {:.5}*X3 + {:.5}*X4 + {:.5}*X5\".format(reg2.intercept_, reg2.coef_[0], reg2.coef_[1], reg2.coef_[2], reg2.coef_[3], reg2.coef_[4]))\n",
        "print(\"Y = a0 + a1X1 + a3X3 + a4X4 + a5X5\")\n",
        "print(\"Sigma squared is\", sigma_squared)"
      ],
      "execution_count": 30,
      "outputs": [
        {
          "output_type": "stream",
          "text": [
            "The linear model is: Y = -2567.9 + 55.037*X1 + 2.2014*X2 + 5.6969*X3 + 6.9531*X4 + 9.1432*X5\n",
            "Y = a0 + a1X1 + a3X3 + a4X4 + a5X5\n",
            "Sigma squared is 164973673.90797523\n"
          ],
          "name": "stdout"
        }
      ]
    },
    {
      "cell_type": "code",
      "metadata": {
        "id": "Pe17zZ6XKBog"
      },
      "source": [
        "LR_sse = 0\n",
        "for v in Y - reg2.predict(X):\n",
        "  LR_sse += v**2"
      ],
      "execution_count": 52,
      "outputs": []
    },
    {
      "cell_type": "code",
      "metadata": {
        "id": "pffe0N32PKA4"
      },
      "source": [
        "NN_sse = 0\n",
        "for v in Y - grid_result.predict(X):\n",
        "  NN_sse += v**2"
      ],
      "execution_count": 53,
      "outputs": []
    },
    {
      "cell_type": "code",
      "metadata": {
        "id": "PGsHv8UJLMz2",
        "outputId": "5b94451f-fca3-4e05-943d-1b470d8c90c8",
        "colab": {
          "base_uri": "https://localhost:8080/"
        }
      },
      "source": [
        "print(\"SSE for Multivariate regression: \", LR_sse)\n",
        "print(\"SSE for estimation with Neural Moedl: \", NN_sse)"
      ],
      "execution_count": 54,
      "outputs": [
        {
          "output_type": "stream",
          "text": [
            "SSE for Multivariate regression:  164973673.90797538\n",
            "SSE for estimation with Neural Moedl:  44202965.174000576\n"
          ],
          "name": "stdout"
        }
      ]
    },
    {
      "cell_type": "code",
      "metadata": {
        "id": "Ri_4orYhLzcd",
        "outputId": "3527dc78-6eb0-4fe1-a64d-1396f4b513aa",
        "colab": {
          "base_uri": "https://localhost:8080/",
          "height": 282
        }
      },
      "source": [
        "Y_test_pred = reg2.predict(X_test)\n",
        "plt.plot(Y_test_pred[:50])\n",
        "plt.plot(Y_test[:50])"
      ],
      "execution_count": 47,
      "outputs": [
        {
          "output_type": "execute_result",
          "data": {
            "text/plain": [
              "[<matplotlib.lines.Line2D at 0x7f7090593400>]"
            ]
          },
          "metadata": {
            "tags": []
          },
          "execution_count": 47
        },
        {
          "output_type": "display_data",
          "data": {
            "image/png": "[encoded data removed]",
            "text/plain": [
              "<Figure size 432x288 with 1 Axes>"
            ]
          },
          "metadata": {
            "tags": [],
            "needs_background": "light"
          }
        }
      ]
    },
    {
      "cell_type": "code",
      "metadata": {
        "id": "mQWKI1zFM7D8",
        "outputId": "5d1f9789-7a71-4461-c9b7-fa99d0405465",
        "colab": {
          "base_uri": "https://localhost:8080/",
          "height": 282
        }
      },
      "source": [
        "Y_test_pred_NN = grid_result.predict(X_test)\n",
        "plt.plot(Y_test_pred_NN[:50])\n",
        "plt.plot(Y_test[:50])"
      ],
      "execution_count": 48,
      "outputs": [
        {
          "output_type": "execute_result",
          "data": {
            "text/plain": [
              "[<matplotlib.lines.Line2D at 0x7f7083518fd0>]"
            ]
          },
          "metadata": {
            "tags": []
          },
          "execution_count": 48
        },
        {
          "output_type": "display_data",
          "data": {
            "image/png": "[encoded data removed]",
            "text/plain": [
              "<Figure size 432x288 with 1 Axes>"
            ]
          },
          "metadata": {
            "tags": [],
            "needs_background": "light"
          }
        }
      ]
    },
    {
      "cell_type": "code",
      "metadata": {
        "id": "pw7AvK9kNPP1"
      },
      "source": [
        ""
      ],
      "execution_count": null,
      "outputs": []
    }
  ]
}