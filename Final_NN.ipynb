{
  "nbformat": 4,
  "nbformat_minor": 0,
  "metadata": {
    "kernelspec": {
      "display_name": "Python 3",
      "language": "python",
      "name": "python3"
    },
    "language_info": {
      "codemirror_mode": {
        "name": "ipython",
        "version": 3
      },
      "file_extension": ".py",
      "mimetype": "text/x-python",
      "name": "python",
      "nbconvert_exporter": "python",
      "pygments_lexer": "ipython3",
      "version": "3.8.3"
    },
    "colab": {
      "name": "Untitled.ipynb",
      "provenance": [],
      "include_colab_link": true
    },
    "accelerator": "GPU"
  },
  "cells": [
    {
      "cell_type": "markdown",
      "metadata": {
        "id": "view-in-github",
        "colab_type": "text"
      },
      "source": [
        "<a href=\"https://colab.research.google.com/github/adithyarganesh/CSC591_004_Neural_Nets/blob/main/Final_NN.ipynb\" target=\"_parent\"><img src=\"https://colab.research.google.com/assets/colab-badge.svg\" alt=\"Open In Colab\"/></a>"
      ]
    },
    {
      "cell_type": "code",
      "metadata": {
        "id": "DCy3jWBV8fUs"
      },
      "source": [
        "import pandas as pd\n",
        "import numpy as np\n",
        "import matplotlib.pyplot as plt\n",
        "import statsmodels.api as sm\n",
        "from sklearn.preprocessing import PolynomialFeatures\n",
        "from sklearn.model_selection import GridSearchCV, cross_val_score, KFold\n",
        "from sklearn.linear_model import LinearRegression\n",
        "from sklearn.metrics import mean_squared_error, r2_score \n",
        "from keras.wrappers.scikit_learn import KerasRegressor\n",
        "from keras.layers import Dense\n",
        "from keras.models import Sequential\n",
        "from keras.optimizers import Adam"
      ],
      "execution_count": 8,
      "outputs": []
    },
    {
      "cell_type": "code",
      "metadata": {
        "id": "5LbJruqR8fU7"
      },
      "source": [
        "data = pd.read_csv(\"20.csv\", header = None)"
      ],
      "execution_count": 2,
      "outputs": []
    },
    {
      "cell_type": "code",
      "metadata": {
        "id": "lA01UdTI8fVH",
        "outputId": "98464c29-6e84-4362-fd5c-9dba03f3247d",
        "colab": {
          "base_uri": "https://localhost:8080/",
          "height": 206
        }
      },
      "source": [
        "data.head()"
      ],
      "execution_count": 3,
      "outputs": [
        {
          "output_type": "execute_result",
          "data": {
            "text/html": [
              "<div>\n",
              "<style scoped>\n",
              "    .dataframe tbody tr th:only-of-type {\n",
              "        vertical-align: middle;\n",
              "    }\n",
              "\n",
              "    .dataframe tbody tr th {\n",
              "        vertical-align: top;\n",
              "    }\n",
              "\n",
              "    .dataframe thead th {\n",
              "        text-align: right;\n",
              "    }\n",
              "</style>\n",
              "<table border=\"1\" class=\"dataframe\">\n",
              "  <thead>\n",
              "    <tr style=\"text-align: right;\">\n",
              "      <th></th>\n",
              "      <th>0</th>\n",
              "      <th>1</th>\n",
              "      <th>2</th>\n",
              "      <th>3</th>\n",
              "      <th>4</th>\n",
              "      <th>5</th>\n",
              "    </tr>\n",
              "  </thead>\n",
              "  <tbody>\n",
              "    <tr>\n",
              "      <th>0</th>\n",
              "      <td>94.039</td>\n",
              "      <td>142.51</td>\n",
              "      <td>221.27</td>\n",
              "      <td>339.26</td>\n",
              "      <td>340.85</td>\n",
              "      <td>9503.0</td>\n",
              "    </tr>\n",
              "    <tr>\n",
              "      <th>1</th>\n",
              "      <td>107.660</td>\n",
              "      <td>170.76</td>\n",
              "      <td>199.92</td>\n",
              "      <td>310.61</td>\n",
              "      <td>332.60</td>\n",
              "      <td>10107.0</td>\n",
              "    </tr>\n",
              "    <tr>\n",
              "      <th>2</th>\n",
              "      <td>61.967</td>\n",
              "      <td>143.51</td>\n",
              "      <td>231.63</td>\n",
              "      <td>305.04</td>\n",
              "      <td>328.60</td>\n",
              "      <td>7506.3</td>\n",
              "    </tr>\n",
              "    <tr>\n",
              "      <th>3</th>\n",
              "      <td>86.851</td>\n",
              "      <td>107.66</td>\n",
              "      <td>216.18</td>\n",
              "      <td>333.62</td>\n",
              "      <td>320.53</td>\n",
              "      <td>8724.5</td>\n",
              "    </tr>\n",
              "    <tr>\n",
              "      <th>4</th>\n",
              "      <td>78.773</td>\n",
              "      <td>148.64</td>\n",
              "      <td>251.70</td>\n",
              "      <td>322.27</td>\n",
              "      <td>346.57</td>\n",
              "      <td>8713.1</td>\n",
              "    </tr>\n",
              "  </tbody>\n",
              "</table>\n",
              "</div>"
            ],
            "text/plain": [
              "         0       1       2       3       4        5\n",
              "0   94.039  142.51  221.27  339.26  340.85   9503.0\n",
              "1  107.660  170.76  199.92  310.61  332.60  10107.0\n",
              "2   61.967  143.51  231.63  305.04  328.60   7506.3\n",
              "3   86.851  107.66  216.18  333.62  320.53   8724.5\n",
              "4   78.773  148.64  251.70  322.27  346.57   8713.1"
            ]
          },
          "metadata": {
            "tags": []
          },
          "execution_count": 3
        }
      ]
    },
    {
      "cell_type": "code",
      "metadata": {
        "id": "a-b7YZDs8fVQ",
        "outputId": "3c5b8a5c-432c-48b7-f8c6-3de6c3765d5b",
        "colab": {
          "base_uri": "https://localhost:8080/",
          "height": 238
        }
      },
      "source": [
        "data.corr()"
      ],
      "execution_count": 4,
      "outputs": [
        {
          "output_type": "execute_result",
          "data": {
            "text/html": [
              "<div>\n",
              "<style scoped>\n",
              "    .dataframe tbody tr th:only-of-type {\n",
              "        vertical-align: middle;\n",
              "    }\n",
              "\n",
              "    .dataframe tbody tr th {\n",
              "        vertical-align: top;\n",
              "    }\n",
              "\n",
              "    .dataframe thead th {\n",
              "        text-align: right;\n",
              "    }\n",
              "</style>\n",
              "<table border=\"1\" class=\"dataframe\">\n",
              "  <thead>\n",
              "    <tr style=\"text-align: right;\">\n",
              "      <th></th>\n",
              "      <th>0</th>\n",
              "      <th>1</th>\n",
              "      <th>2</th>\n",
              "      <th>3</th>\n",
              "      <th>4</th>\n",
              "      <th>5</th>\n",
              "    </tr>\n",
              "  </thead>\n",
              "  <tbody>\n",
              "    <tr>\n",
              "      <th>0</th>\n",
              "      <td>1.000000</td>\n",
              "      <td>0.014514</td>\n",
              "      <td>-0.006043</td>\n",
              "      <td>-0.017395</td>\n",
              "      <td>0.016438</td>\n",
              "      <td>0.951735</td>\n",
              "    </tr>\n",
              "    <tr>\n",
              "      <th>1</th>\n",
              "      <td>0.014514</td>\n",
              "      <td>1.000000</td>\n",
              "      <td>0.032741</td>\n",
              "      <td>-0.001900</td>\n",
              "      <td>-0.037500</td>\n",
              "      <td>0.046233</td>\n",
              "    </tr>\n",
              "    <tr>\n",
              "      <th>2</th>\n",
              "      <td>-0.006043</td>\n",
              "      <td>0.032741</td>\n",
              "      <td>1.000000</td>\n",
              "      <td>0.017146</td>\n",
              "      <td>0.031595</td>\n",
              "      <td>0.098727</td>\n",
              "    </tr>\n",
              "    <tr>\n",
              "      <th>3</th>\n",
              "      <td>-0.017395</td>\n",
              "      <td>-0.001900</td>\n",
              "      <td>0.017146</td>\n",
              "      <td>1.000000</td>\n",
              "      <td>-0.009506</td>\n",
              "      <td>0.111425</td>\n",
              "    </tr>\n",
              "    <tr>\n",
              "      <th>4</th>\n",
              "      <td>0.016438</td>\n",
              "      <td>-0.037500</td>\n",
              "      <td>0.031595</td>\n",
              "      <td>-0.009506</td>\n",
              "      <td>1.000000</td>\n",
              "      <td>0.179275</td>\n",
              "    </tr>\n",
              "    <tr>\n",
              "      <th>5</th>\n",
              "      <td>0.951735</td>\n",
              "      <td>0.046233</td>\n",
              "      <td>0.098727</td>\n",
              "      <td>0.111425</td>\n",
              "      <td>0.179275</td>\n",
              "      <td>1.000000</td>\n",
              "    </tr>\n",
              "  </tbody>\n",
              "</table>\n",
              "</div>"
            ],
            "text/plain": [
              "          0         1         2         3         4         5\n",
              "0  1.000000  0.014514 -0.006043 -0.017395  0.016438  0.951735\n",
              "1  0.014514  1.000000  0.032741 -0.001900 -0.037500  0.046233\n",
              "2 -0.006043  0.032741  1.000000  0.017146  0.031595  0.098727\n",
              "3 -0.017395 -0.001900  0.017146  1.000000 -0.009506  0.111425\n",
              "4  0.016438 -0.037500  0.031595 -0.009506  1.000000  0.179275\n",
              "5  0.951735  0.046233  0.098727  0.111425  0.179275  1.000000"
            ]
          },
          "metadata": {
            "tags": []
          },
          "execution_count": 4
        }
      ]
    },
    {
      "cell_type": "markdown",
      "metadata": {
        "id": "AfMZ8fpZ8fVV"
      },
      "source": [
        "https://machinelearningmastery.com/tutorial-first-neural-network-python-keras/\n",
        "\n",
        "https://machinelearningmastery.com/regression-tutorial-keras-deep-learning-library-python/\n",
        "\n",
        "https://machinelearningmastery.com/regression-tutorial-keras-deep-learning-library-python/\n",
        "\n",
        "https://www.kaggle.com/willkoehrsen/intro-to-model-tuning-grid-and-random-search"
      ]
    },
    {
      "cell_type": "code",
      "metadata": {
        "id": "YVqV18R_8ykz"
      },
      "source": [
        "dataset = data.values\n",
        "X = dataset[:,0:5]\n",
        "Y = dataset[:,5]\n",
        "X_test = X[-300:]\n",
        "X = X[:-300]\n",
        "Y_test = Y[-300:]\n",
        "Y = Y[:-300]"
      ],
      "execution_count": 5,
      "outputs": []
    },
    {
      "cell_type": "code",
      "metadata": {
        "id": "8FRmJtbh8fVk",
        "outputId": "43078cac-f548-4b9f-f614-667acf693abf",
        "colab": {
          "base_uri": "https://localhost:8080/"
        }
      },
      "source": [
        "# define base model\n",
        "def baseline_model():\n",
        "    # create model\n",
        "    model = Sequential()\n",
        "    model.add(Dense(5, input_dim=5, kernel_initializer='normal', activation='relu'))\n",
        "    model.add(Dense(1, kernel_initializer='normal'))\n",
        "    # Compile model\n",
        "    model.compile(loss='mean_squared_error', optimizer='adam')\n",
        "    return model\n",
        "\n",
        "estimator = KerasRegressor(build_fn=baseline_model, epochs=100, batch_size=5, verbose=0)\n",
        "kfold = KFold(n_splits=10)\n",
        "results = cross_val_score(estimator, X, Y, cv=kfold)\n",
        "print(\"Baseline: %.2f (%.2f) MSE\" % (results.mean(), results.std()))"
      ],
      "execution_count": 6,
      "outputs": [
        {
          "output_type": "stream",
          "text": [
            "Baseline: -8204048.46 (24315010.89) MSE\n"
          ],
          "name": "stdout"
        }
      ]
    },
    {
      "cell_type": "code",
      "metadata": {
        "id": "F5TyCEi28fVy"
      },
      "source": [
        "def custom_model( momentum=0, dropout_rate=0.0, learn_rate=0.01, epochs = 10, verbose=0):\n",
        "  model = Sequential()\n",
        "  model.add(Dense(128, input_dim=X.shape[1], activation='relu'))\n",
        "  model.add(Dense(64, activation='relu'))\n",
        "  model.add(Dense(1))\n",
        "  adam = Adam(lr=0.001, beta_1=0.9, beta_2=0.999, epsilon=None, decay=0.0, amsgrad=False)\n",
        "  model.compile(loss='mean_squared_error', optimizer=adam, metrics=['mse'])\n",
        "  return model\n",
        "\n",
        "np.random.seed(5)\n",
        "\n",
        "model = KerasRegressor(build_fn=custom_model, verbose=0)\n",
        "\n",
        "# Hyperparameter tuning\n",
        "learn_rate = [0.0001, 0.001, 0.01]\n",
        "dropout_rate = [0.0, 0.2, 0.3]\n",
        "batch_size = [10, 50, 100]\n",
        "epochs = [10, 50, 100]\n",
        "\n",
        "param_grid = dict(batch_size=batch_size, epochs=epochs, learn_rate=learn_rate, dropout_rate=dropout_rate)\n",
        "\n",
        "grid = GridSearchCV(estimator=model, param_grid=param_grid, n_jobs=-1)\n",
        "grid_result = grid.fit(X, Y)"
      ],
      "execution_count": 10,
      "outputs": []
    },
    {
      "cell_type": "code",
      "metadata": {
        "id": "q58JWes0-oe6",
        "outputId": "62de19f2-c7b5-43f0-b9df-285bf9cb056a",
        "colab": {
          "base_uri": "https://localhost:8080/"
        }
      },
      "source": [
        "print(\"Best mse is %f with params --> %s\" % (grid_result.best_score_, grid_result.best_params_))\n",
        "means = grid_result.cv_results_['mean_test_score']\n",
        "std_dev = grid_result.cv_results_['std_test_score']\n",
        "tuned_params = grid_result.cv_results_['params' ]\n",
        "for mean, stdev, param in zip(means, std_dev, tuned_params):\n",
        "  print(\"%f, %f ----> %r\" % (mean, stdev, param))"
      ],
      "execution_count": 11,
      "outputs": [
        {
          "output_type": "stream",
          "text": [
            "Best mse is -24887.330078 with params --> {'batch_size': 10, 'dropout_rate': 0.2, 'epochs': 100, 'learn_rate': 0.01}\n",
            "-83463.160156, 25271.865298 ----> {'batch_size': 10, 'dropout_rate': 0.0, 'epochs': 10, 'learn_rate': 0.0001}\n",
            "-88775.615625, 23038.250922 ----> {'batch_size': 10, 'dropout_rate': 0.0, 'epochs': 10, 'learn_rate': 0.001}\n",
            "-90300.914844, 32942.413488 ----> {'batch_size': 10, 'dropout_rate': 0.0, 'epochs': 10, 'learn_rate': 0.01}\n",
            "-36012.864453, 11941.555961 ----> {'batch_size': 10, 'dropout_rate': 0.0, 'epochs': 50, 'learn_rate': 0.0001}\n",
            "-31121.520313, 7992.348638 ----> {'batch_size': 10, 'dropout_rate': 0.0, 'epochs': 50, 'learn_rate': 0.001}\n",
            "-28983.807812, 5356.626577 ----> {'batch_size': 10, 'dropout_rate': 0.0, 'epochs': 50, 'learn_rate': 0.01}\n",
            "-35069.562109, 8180.334911 ----> {'batch_size': 10, 'dropout_rate': 0.0, 'epochs': 100, 'learn_rate': 0.0001}\n",
            "-33771.587500, 7284.982974 ----> {'batch_size': 10, 'dropout_rate': 0.0, 'epochs': 100, 'learn_rate': 0.001}\n",
            "-32479.938281, 8067.058798 ----> {'batch_size': 10, 'dropout_rate': 0.0, 'epochs': 100, 'learn_rate': 0.01}\n",
            "-65907.715625, 24826.923191 ----> {'batch_size': 10, 'dropout_rate': 0.2, 'epochs': 10, 'learn_rate': 0.0001}\n",
            "-77717.960156, 34020.840710 ----> {'batch_size': 10, 'dropout_rate': 0.2, 'epochs': 10, 'learn_rate': 0.001}\n",
            "-85224.619531, 29205.053937 ----> {'batch_size': 10, 'dropout_rate': 0.2, 'epochs': 10, 'learn_rate': 0.01}\n",
            "-33830.892578, 3986.515899 ----> {'batch_size': 10, 'dropout_rate': 0.2, 'epochs': 50, 'learn_rate': 0.0001}\n",
            "-31440.497656, 7374.794438 ----> {'batch_size': 10, 'dropout_rate': 0.2, 'epochs': 50, 'learn_rate': 0.001}\n",
            "-27606.241406, 4662.202180 ----> {'batch_size': 10, 'dropout_rate': 0.2, 'epochs': 50, 'learn_rate': 0.01}\n",
            "-29065.995703, 5938.747315 ----> {'batch_size': 10, 'dropout_rate': 0.2, 'epochs': 100, 'learn_rate': 0.0001}\n",
            "-26874.994922, 4138.167862 ----> {'batch_size': 10, 'dropout_rate': 0.2, 'epochs': 100, 'learn_rate': 0.001}\n",
            "-24887.330078, 3946.426631 ----> {'batch_size': 10, 'dropout_rate': 0.2, 'epochs': 100, 'learn_rate': 0.01}\n",
            "-70273.667188, 37229.902720 ----> {'batch_size': 10, 'dropout_rate': 0.3, 'epochs': 10, 'learn_rate': 0.0001}\n",
            "-107712.754687, 46457.342344 ----> {'batch_size': 10, 'dropout_rate': 0.3, 'epochs': 10, 'learn_rate': 0.001}\n",
            "-79865.365625, 20842.438363 ----> {'batch_size': 10, 'dropout_rate': 0.3, 'epochs': 10, 'learn_rate': 0.01}\n",
            "-29312.818750, 6711.976675 ----> {'batch_size': 10, 'dropout_rate': 0.3, 'epochs': 50, 'learn_rate': 0.0001}\n",
            "-28767.895313, 2799.946145 ----> {'batch_size': 10, 'dropout_rate': 0.3, 'epochs': 50, 'learn_rate': 0.001}\n",
            "-33539.787500, 7869.685157 ----> {'batch_size': 10, 'dropout_rate': 0.3, 'epochs': 50, 'learn_rate': 0.01}\n",
            "-29265.059375, 4962.019223 ----> {'batch_size': 10, 'dropout_rate': 0.3, 'epochs': 100, 'learn_rate': 0.0001}\n",
            "-38803.658594, 26620.278088 ----> {'batch_size': 10, 'dropout_rate': 0.3, 'epochs': 100, 'learn_rate': 0.001}\n",
            "-26067.693750, 2738.324925 ----> {'batch_size': 10, 'dropout_rate': 0.3, 'epochs': 100, 'learn_rate': 0.01}\n",
            "-1391231.450000, 131769.763490 ----> {'batch_size': 50, 'dropout_rate': 0.0, 'epochs': 10, 'learn_rate': 0.0001}\n",
            "-1394257.100000, 148163.606630 ----> {'batch_size': 50, 'dropout_rate': 0.0, 'epochs': 10, 'learn_rate': 0.001}\n",
            "-1334672.825000, 121353.652625 ----> {'batch_size': 50, 'dropout_rate': 0.0, 'epochs': 10, 'learn_rate': 0.01}\n",
            "-77671.030078, 72929.877871 ----> {'batch_size': 50, 'dropout_rate': 0.0, 'epochs': 50, 'learn_rate': 0.0001}\n",
            "-54267.003906, 26992.621148 ----> {'batch_size': 50, 'dropout_rate': 0.0, 'epochs': 50, 'learn_rate': 0.001}\n",
            "-53134.264062, 25623.205015 ----> {'batch_size': 50, 'dropout_rate': 0.0, 'epochs': 50, 'learn_rate': 0.01}\n",
            "-31013.926172, 3174.209647 ----> {'batch_size': 50, 'dropout_rate': 0.0, 'epochs': 100, 'learn_rate': 0.0001}\n",
            "-48720.391016, 16649.325040 ----> {'batch_size': 50, 'dropout_rate': 0.0, 'epochs': 100, 'learn_rate': 0.001}\n",
            "-31847.444141, 13980.987319 ----> {'batch_size': 50, 'dropout_rate': 0.0, 'epochs': 100, 'learn_rate': 0.01}\n",
            "-1345242.825000, 160264.462418 ----> {'batch_size': 50, 'dropout_rate': 0.2, 'epochs': 10, 'learn_rate': 0.0001}\n",
            "-1343731.025000, 142865.047342 ----> {'batch_size': 50, 'dropout_rate': 0.2, 'epochs': 10, 'learn_rate': 0.001}\n",
            "-1354697.775000, 124586.394037 ----> {'batch_size': 50, 'dropout_rate': 0.2, 'epochs': 10, 'learn_rate': 0.01}\n",
            "-57313.091016, 18280.070121 ----> {'batch_size': 50, 'dropout_rate': 0.2, 'epochs': 50, 'learn_rate': 0.0001}\n",
            "-51404.878125, 26886.678269 ----> {'batch_size': 50, 'dropout_rate': 0.2, 'epochs': 50, 'learn_rate': 0.001}\n",
            "-53362.170312, 20306.481582 ----> {'batch_size': 50, 'dropout_rate': 0.2, 'epochs': 50, 'learn_rate': 0.01}\n",
            "-31464.076953, 6984.338670 ----> {'batch_size': 50, 'dropout_rate': 0.2, 'epochs': 100, 'learn_rate': 0.0001}\n",
            "-34847.044141, 15228.993071 ----> {'batch_size': 50, 'dropout_rate': 0.2, 'epochs': 100, 'learn_rate': 0.001}\n",
            "-32029.678125, 5482.817316 ----> {'batch_size': 50, 'dropout_rate': 0.2, 'epochs': 100, 'learn_rate': 0.01}\n",
            "-1379998.125000, 172412.173111 ----> {'batch_size': 50, 'dropout_rate': 0.3, 'epochs': 10, 'learn_rate': 0.0001}\n",
            "-1378416.150000, 94280.468042 ----> {'batch_size': 50, 'dropout_rate': 0.3, 'epochs': 10, 'learn_rate': 0.001}\n",
            "-1372643.625000, 120326.731641 ----> {'batch_size': 50, 'dropout_rate': 0.3, 'epochs': 10, 'learn_rate': 0.01}\n",
            "-56712.373437, 11561.815221 ----> {'batch_size': 50, 'dropout_rate': 0.3, 'epochs': 50, 'learn_rate': 0.0001}\n",
            "-64784.871875, 12282.235965 ----> {'batch_size': 50, 'dropout_rate': 0.3, 'epochs': 50, 'learn_rate': 0.001}\n",
            "-69941.793750, 38007.654682 ----> {'batch_size': 50, 'dropout_rate': 0.3, 'epochs': 50, 'learn_rate': 0.01}\n",
            "-37416.461328, 13574.281323 ----> {'batch_size': 50, 'dropout_rate': 0.3, 'epochs': 100, 'learn_rate': 0.0001}\n",
            "-45251.885156, 16110.994895 ----> {'batch_size': 50, 'dropout_rate': 0.3, 'epochs': 100, 'learn_rate': 0.001}\n",
            "-29959.032031, 6280.830413 ----> {'batch_size': 50, 'dropout_rate': 0.3, 'epochs': 100, 'learn_rate': 0.01}\n",
            "-1494333.325000, 171158.091437 ----> {'batch_size': 100, 'dropout_rate': 0.0, 'epochs': 10, 'learn_rate': 0.0001}\n",
            "-1492897.475000, 136893.803305 ----> {'batch_size': 100, 'dropout_rate': 0.0, 'epochs': 10, 'learn_rate': 0.001}\n",
            "-1481787.225000, 181406.314004 ----> {'batch_size': 100, 'dropout_rate': 0.0, 'epochs': 10, 'learn_rate': 0.01}\n",
            "-362559.275000, 144505.187410 ----> {'batch_size': 100, 'dropout_rate': 0.0, 'epochs': 50, 'learn_rate': 0.0001}\n",
            "-493743.925000, 175628.419863 ----> {'batch_size': 100, 'dropout_rate': 0.0, 'epochs': 50, 'learn_rate': 0.001}\n",
            "-425601.634375, 138994.073447 ----> {'batch_size': 100, 'dropout_rate': 0.0, 'epochs': 50, 'learn_rate': 0.01}\n",
            "-56394.031250, 29822.650123 ----> {'batch_size': 100, 'dropout_rate': 0.0, 'epochs': 100, 'learn_rate': 0.0001}\n",
            "-62118.402734, 33738.726838 ----> {'batch_size': 100, 'dropout_rate': 0.0, 'epochs': 100, 'learn_rate': 0.001}\n",
            "-45354.618750, 12476.379207 ----> {'batch_size': 100, 'dropout_rate': 0.0, 'epochs': 100, 'learn_rate': 0.01}\n",
            "-1520627.550000, 153316.697647 ----> {'batch_size': 100, 'dropout_rate': 0.2, 'epochs': 10, 'learn_rate': 0.0001}\n",
            "-1525229.250000, 192898.677445 ----> {'batch_size': 100, 'dropout_rate': 0.2, 'epochs': 10, 'learn_rate': 0.001}\n",
            "-1576432.075000, 140458.977827 ----> {'batch_size': 100, 'dropout_rate': 0.2, 'epochs': 10, 'learn_rate': 0.01}\n",
            "-438015.534375, 169262.908999 ----> {'batch_size': 100, 'dropout_rate': 0.2, 'epochs': 50, 'learn_rate': 0.0001}\n",
            "-526000.006250, 172199.747528 ----> {'batch_size': 100, 'dropout_rate': 0.2, 'epochs': 50, 'learn_rate': 0.001}\n",
            "-302433.350000, 203837.546876 ----> {'batch_size': 100, 'dropout_rate': 0.2, 'epochs': 50, 'learn_rate': 0.01}\n",
            "-65191.571875, 16258.684909 ----> {'batch_size': 100, 'dropout_rate': 0.2, 'epochs': 100, 'learn_rate': 0.0001}\n",
            "-65105.631250, 21753.605495 ----> {'batch_size': 100, 'dropout_rate': 0.2, 'epochs': 100, 'learn_rate': 0.001}\n",
            "-42338.783203, 14474.060719 ----> {'batch_size': 100, 'dropout_rate': 0.2, 'epochs': 100, 'learn_rate': 0.01}\n",
            "-1580144.925000, 167657.703649 ----> {'batch_size': 100, 'dropout_rate': 0.3, 'epochs': 10, 'learn_rate': 0.0001}\n",
            "-1572937.625000, 189683.774624 ----> {'batch_size': 100, 'dropout_rate': 0.3, 'epochs': 10, 'learn_rate': 0.001}\n",
            "-1567378.325000, 161370.750398 ----> {'batch_size': 100, 'dropout_rate': 0.3, 'epochs': 10, 'learn_rate': 0.01}\n",
            "-461903.221875, 243098.024866 ----> {'batch_size': 100, 'dropout_rate': 0.3, 'epochs': 50, 'learn_rate': 0.0001}\n",
            "-329203.254688, 191314.508843 ----> {'batch_size': 100, 'dropout_rate': 0.3, 'epochs': 50, 'learn_rate': 0.001}\n",
            "-514557.693750, 125854.978822 ----> {'batch_size': 100, 'dropout_rate': 0.3, 'epochs': 50, 'learn_rate': 0.01}\n",
            "-68567.199219, 37323.214715 ----> {'batch_size': 100, 'dropout_rate': 0.3, 'epochs': 100, 'learn_rate': 0.0001}\n",
            "-46243.672266, 26302.250809 ----> {'batch_size': 100, 'dropout_rate': 0.3, 'epochs': 100, 'learn_rate': 0.001}\n",
            "-79122.269922, 52110.550128 ----> {'batch_size': 100, 'dropout_rate': 0.3, 'epochs': 100, 'learn_rate': 0.01}\n"
          ],
          "name": "stdout"
        }
      ]
    },
    {
      "cell_type": "code",
      "metadata": {
        "id": "u0U28LjJJcHH"
      },
      "source": [
        "X2 = sm.add_constant(X)\n",
        "est = sm.OLS(Y, X2)\n",
        "est2 = est.fit()"
      ],
      "execution_count": 16,
      "outputs": []
    },
    {
      "cell_type": "code",
      "metadata": {
        "id": "zQboTZDTJiqL",
        "outputId": "1c5b8404-5169-40c1-ba95-21a75420167b",
        "colab": {
          "base_uri": "https://localhost:8080/"
        }
      },
      "source": [
        "print(est2.summary())"
      ],
      "execution_count": 17,
      "outputs": [
        {
          "output_type": "stream",
          "text": [
            "                            OLS Regression Results                            \n",
            "==============================================================================\n",
            "Dep. Variable:                      y   R-squared:                       0.960\n",
            "Model:                            OLS   Adj. R-squared:                  0.960\n",
            "Method:                 Least Squares   F-statistic:                     9585.\n",
            "Date:                Thu, 05 Nov 2020   Prob (F-statistic):               0.00\n",
            "Time:                        01:55:01   Log-Likelihood:                -14158.\n",
            "No. Observations:                2000   AIC:                         2.833e+04\n",
            "Df Residuals:                    1994   BIC:                         2.836e+04\n",
            "Df Model:                           5                                         \n",
            "Covariance Type:            nonrobust                                         \n",
            "==============================================================================\n",
            "                 coef    std err          t      P>|t|      [0.025      0.975]\n",
            "------------------------------------------------------------------------------\n",
            "const      -2567.9162    142.217    -18.056      0.000   -2846.826   -2289.007\n",
            "x1            55.0369      0.259    212.402      0.000      54.529      55.545\n",
            "x2             2.2014      0.267      8.252      0.000       1.678       2.725\n",
            "x3             5.6969      0.266     21.387      0.000       5.175       6.219\n",
            "x4             6.9531      0.251     27.745      0.000       6.462       7.445\n",
            "x5             9.1432      0.263     34.767      0.000       8.627       9.659\n",
            "==============================================================================\n",
            "Omnibus:                     1395.967   Durbin-Watson:                   1.974\n",
            "Prob(Omnibus):                  0.000   Jarque-Bera (JB):            29299.309\n",
            "Skew:                           3.018   Prob(JB):                         0.00\n",
            "Kurtosis:                      20.753   Cond. No.                     1.22e+04\n",
            "==============================================================================\n",
            "\n",
            "Warnings:\n",
            "[1] Standard Errors assume that the covariance matrix of the errors is correctly specified.\n",
            "[2] The condition number is large, 1.22e+04. This might indicate that there are\n",
            "strong multicollinearity or other numerical problems.\n"
          ],
          "name": "stdout"
        }
      ]
    },
    {
      "cell_type": "code",
      "metadata": {
        "id": "38cSgPdQ8fWK",
        "outputId": "a6de7d1b-48a8-4db3-815b-5a4eb4a3eed9",
        "colab": {
          "base_uri": "https://localhost:8080/"
        }
      },
      "source": [
        "reg2 = LinearRegression()\n",
        "reg2.fit(X, Y)\n",
        "\n",
        "print(\"The linear model is: Y = {:.5} + {:.5}*X1 + {:.5}*X2 + {:.5}*X3 + {:.5}*X4 + {:.5}*X5\".format(reg2.intercept_, reg2.coef_[0], reg2.coef_[1], reg2.coef_[2], reg2.coef_[3], reg2.coef_[4]))\n",
        "print(\"Y = a0 + a1X1 + a3X3 + a4X4 + a5X5\")"
      ],
      "execution_count": 18,
      "outputs": [
        {
          "output_type": "stream",
          "text": [
            "The linear model is: Y = -2567.9 + 55.037*X1 + 2.2014*X2 + 5.6969*X3 + 6.9531*X4 + 9.1432*X5\n",
            "Y = a0 + a1X1 + a3X3 + a4X4 + a5X5\n"
          ],
          "name": "stdout"
        }
      ]
    },
    {
      "cell_type": "code",
      "metadata": {
        "id": "Pe17zZ6XKBog"
      },
      "source": [
        "LR_sse = 0\n",
        "for v in Y - reg2.predict(X):\n",
        "  LR_sse += v**2"
      ],
      "execution_count": 19,
      "outputs": []
    },
    {
      "cell_type": "code",
      "metadata": {
        "id": "pffe0N32PKA4"
      },
      "source": [
        "NN_sse = 0\n",
        "for v in Y - grid_result.predict(X):\n",
        "  NN_sse += v**2"
      ],
      "execution_count": 20,
      "outputs": []
    },
    {
      "cell_type": "code",
      "metadata": {
        "id": "PGsHv8UJLMz2",
        "outputId": "f05ba2fc-7a53-48db-9e97-d23480c0745b",
        "colab": {
          "base_uri": "https://localhost:8080/"
        }
      },
      "source": [
        "print(\"SSE for Multivariate regression: \", LR_sse)\n",
        "print(\"SSE for estimation with Neural Moedl: \", NN_sse)"
      ],
      "execution_count": 21,
      "outputs": [
        {
          "output_type": "stream",
          "text": [
            "SSE for Multivariate regression:  164973673.90797538\n",
            "SSE for estimation with Neural Moedl:  44258448.18429801\n"
          ],
          "name": "stdout"
        }
      ]
    },
    {
      "cell_type": "code",
      "metadata": {
        "id": "Ri_4orYhLzcd",
        "outputId": "2984c4c6-5fec-4056-be60-efbf6fef5a27",
        "colab": {
          "base_uri": "https://localhost:8080/",
          "height": 282
        }
      },
      "source": [
        "Y_test_pred = reg2.predict(X_test)\n",
        "plt.plot(Y_test_pred[:50])\n",
        "plt.plot(Y_test[:50])"
      ],
      "execution_count": 22,
      "outputs": [
        {
          "output_type": "execute_result",
          "data": {
            "text/plain": [
              "[<matplotlib.lines.Line2D at 0x7faf265dbdd8>]"
            ]
          },
          "metadata": {
            "tags": []
          },
          "execution_count": 22
        },
        {
          "output_type": "display_data",
          "data": {
            "image/png": "[encoded data removed]",
            "text/plain": [
              "<Figure size 432x288 with 1 Axes>"
            ]
          },
          "metadata": {
            "tags": [],
            "needs_background": "light"
          }
        }
      ]
    },
    {
      "cell_type": "code",
      "metadata": {
        "id": "mQWKI1zFM7D8",
        "outputId": "d043927a-ba94-463e-b846-a368d249aa21",
        "colab": {
          "base_uri": "https://localhost:8080/",
          "height": 282
        }
      },
      "source": [
        "Y_test_pred_NN = grid_result.predict(X_test)\n",
        "plt.plot(Y_test_pred_NN[:50])\n",
        "plt.plot(Y_test[:50])"
      ],
      "execution_count": 23,
      "outputs": [
        {
          "output_type": "execute_result",
          "data": {
            "text/plain": [
              "[<matplotlib.lines.Line2D at 0x7faf2877f198>]"
            ]
          },
          "metadata": {
            "tags": []
          },
          "execution_count": 23
        },
        {
          "output_type": "display_data",
          "data": {
            "image/png": "[encoded data removed]",
            "text/plain": [
              "<Figure size 432x288 with 1 Axes>"
            ]
          },
          "metadata": {
            "tags": [],
            "needs_background": "light"
          }
        }
      ]
    },
    {
      "cell_type": "code",
      "metadata": {
        "id": "Kst1vyNdHasM"
      },
      "source": [
        ""
      ],
      "execution_count": null,
      "outputs": []
    }
  ]
}